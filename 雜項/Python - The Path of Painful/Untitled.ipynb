{
 "cells": [
  {
   "cell_type": "code",
   "execution_count": null,
   "metadata": {},
   "outputs": [],
   "source": [
    "# 1, 1, 1, 2, 3, 4, 6, 9, 13, 19, 28,41,60,88,129,189"
   ]
  },
  {
   "cell_type": "code",
   "execution_count": null,
   "metadata": {},
   "outputs": [],
   "source": [
    "def lol(number):\n",
    "    a = [a for a in [1]*20]; print(a)\n",
    "lol(4)"
   ]
  },
  {
   "cell_type": "code",
   "execution_count": null,
   "metadata": {},
   "outputs": [],
   "source": [
    "def lol2(number2):\n",
    "    a = [b for b in range(0,16)]; print(a[number2-1]+a[number2-3])\n",
    "lol2(0)"
   ]
  },
  {
   "cell_type": "code",
   "execution_count": null,
   "metadata": {
    "scrolled": true
   },
   "outputs": [],
   "source": [
    "b = lambda number : 1 if number < 3 else b(n-1)+b(n-3)\n",
    "b"
   ]
  },
  {
   "cell_type": "code",
   "execution_count": 1,
   "metadata": {},
   "outputs": [],
   "source": [
    "import QualityList"
   ]
  },
  {
   "cell_type": "code",
   "execution_count": 3,
   "metadata": {},
   "outputs": [],
   "source": [
    "import pandas as pd\n",
    "import numpy as np"
   ]
  },
  {
   "cell_type": "code",
   "execution_count": 4,
   "metadata": {
    "scrolled": true
   },
   "outputs": [
    {
     "name": "stdout",
     "output_type": "stream",
     "text": [
      "*TradeID 有1000個眾數\n"
     ]
    },
    {
     "data": {
      "text/html": [
       "<div>\n",
       "<style scoped>\n",
       "    .dataframe tbody tr th:only-of-type {\n",
       "        vertical-align: middle;\n",
       "    }\n",
       "\n",
       "    .dataframe tbody tr th {\n",
       "        vertical-align: top;\n",
       "    }\n",
       "\n",
       "    .dataframe thead th {\n",
       "        text-align: right;\n",
       "    }\n",
       "</style>\n",
       "<table border=\"1\" class=\"dataframe\">\n",
       "  <thead>\n",
       "    <tr style=\"text-align: right;\">\n",
       "      <th></th>\n",
       "      <th>不同值個數</th>\n",
       "      <th>空值個數</th>\n",
       "      <th>空值比例</th>\n",
       "      <th>次數最多的值</th>\n",
       "      <th>最多出現次數</th>\n",
       "      <th>不平衡度</th>\n",
       "    </tr>\n",
       "  </thead>\n",
       "  <tbody>\n",
       "    <tr>\n",
       "      <td>TradeID</td>\n",
       "      <td>1000</td>\n",
       "      <td>0</td>\n",
       "      <td>0.00%</td>\n",
       "      <td>A_AGS1484858339_1246313_A1EE5E</td>\n",
       "      <td>1</td>\n",
       "      <td>0.10%</td>\n",
       "    </tr>\n",
       "    <tr>\n",
       "      <td>Appid</td>\n",
       "      <td>2</td>\n",
       "      <td>1</td>\n",
       "      <td>0.10%</td>\n",
       "      <td>AGS</td>\n",
       "      <td>999</td>\n",
       "      <td>99.90%</td>\n",
       "    </tr>\n",
       "    <tr>\n",
       "      <td>Channel</td>\n",
       "      <td>2</td>\n",
       "      <td>8</td>\n",
       "      <td>0.80%</td>\n",
       "      <td>iOS</td>\n",
       "      <td>992</td>\n",
       "      <td>99.20%</td>\n",
       "    </tr>\n",
       "    <tr>\n",
       "      <td>RoleName</td>\n",
       "      <td>557</td>\n",
       "      <td>10</td>\n",
       "      <td>1.00%</td>\n",
       "      <td>1308291_1000</td>\n",
       "      <td>10</td>\n",
       "      <td>1.00%</td>\n",
       "    </tr>\n",
       "    <tr>\n",
       "      <td>OriDoller</td>\n",
       "      <td>2</td>\n",
       "      <td>11</td>\n",
       "      <td>1.10%</td>\n",
       "      <td>TWD</td>\n",
       "      <td>989</td>\n",
       "      <td>98.90%</td>\n",
       "    </tr>\n",
       "    <tr>\n",
       "      <td>CreateDate</td>\n",
       "      <td>850</td>\n",
       "      <td>12</td>\n",
       "      <td>1.20%</td>\n",
       "      <td>2017/1/21 19:07</td>\n",
       "      <td>4</td>\n",
       "      <td>0.40%</td>\n",
       "    </tr>\n",
       "  </tbody>\n",
       "</table>\n",
       "</div>"
      ],
      "text/plain": [
       "           不同值個數 空值個數   空值比例                          次數最多的值 最多出現次數    不平衡度\n",
       "TradeID     1000    0  0.00%  A_AGS1484858339_1246313_A1EE5E      1   0.10%\n",
       "Appid          2    1  0.10%                             AGS    999  99.90%\n",
       "Channel        2    8  0.80%                             iOS    992  99.20%\n",
       "RoleName     557   10  1.00%                    1308291_1000     10   1.00%\n",
       "OriDoller      2   11  1.10%                             TWD    989  98.90%\n",
       "CreateDate   850   12  1.20%                 2017/1/21 19:07      4   0.40%"
      ]
     },
     "execution_count": 4,
     "metadata": {},
     "output_type": "execute_result"
    }
   ],
   "source": [
    "data = pd.read_csv('data.csv')\n",
    "QualityList.factorQuality(data)"
   ]
  },
  {
   "cell_type": "code",
   "execution_count": null,
   "metadata": {},
   "outputs": [],
   "source": []
  }
 ],
 "metadata": {
  "kernelspec": {
   "display_name": "Python 3",
   "language": "python",
   "name": "python3"
  },
  "language_info": {
   "codemirror_mode": {
    "name": "ipython",
    "version": 3
   },
   "file_extension": ".py",
   "mimetype": "text/x-python",
   "name": "python",
   "nbconvert_exporter": "python",
   "pygments_lexer": "ipython3",
   "version": "3.7.4"
  }
 },
 "nbformat": 4,
 "nbformat_minor": 2
}
