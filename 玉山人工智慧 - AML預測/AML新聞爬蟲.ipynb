{
 "cells": [
  {
   "cell_type": "code",
   "execution_count": 152,
   "metadata": {},
   "outputs": [],
   "source": [
    "import requests\n",
    "import pandas as pd\n",
    "import numpy as np\n",
    "import time\n",
    "import random\n",
    "from bs4 import BeautifulSoup"
   ]
  },
  {
   "cell_type": "code",
   "execution_count": 153,
   "metadata": {},
   "outputs": [],
   "source": [
    "data = pd.read_csv(r'C:\\Users\\9Suser\\Desktop\\模型訓練資料\\tbrain_train_final_0603.csv')[['hyperlink', 'content']]"
   ]
  },
  {
   "cell_type": "code",
   "execution_count": 154,
   "metadata": {},
   "outputs": [],
   "source": [
    "def number_p(soup, firstwords, endwords, link):    \n",
    "    flag = False\n",
    "    content = []\n",
    "    \n",
    "    if('mops' in link):\n",
    "        tags = soup.find_all('font', class_=None, text=True, attrs={'data-reactid':None})\n",
    "    elif('domestic.judicial' in link):   #司法院公告\n",
    "        tags = soup.find_all('pre', class_=None, text=True, attrs={'data-reactid':None})\n",
    "    else:\n",
    "        tags = soup.find_all('p', class_=None, text=True, attrs={'data-reactid':None})\n",
    "   \n",
    "    \n",
    "    if firstwords not in str(tags):\n",
    "        for tag in tags:\n",
    "            content.append(tag.contents[0])\n",
    "            if endwords in tag.contents[0]:\n",
    "                break\n",
    "        \n",
    "    else:\n",
    "        for tag in tags:\n",
    "\n",
    "            if firstwords in tag.contents[0]:\n",
    "                flag = True\n",
    "\n",
    "            if flag:\n",
    "                content.append(tag.contents[0])\n",
    "                if endwords in tag.contents[0]:\n",
    "                    break\n",
    "\n",
    "    return content"
   ]
  },
  {
   "cell_type": "code",
   "execution_count": 155,
   "metadata": {
    "scrolled": false
   },
   "outputs": [],
   "source": [
    "headers = {'User-Agent': 'Mozilla/5.0 (Windows NT 10.0; Win64; x64; rv:54.0) Gecko/20100101 Firefox/54.0'}"
   ]
  },
  {
   "cell_type": "code",
   "execution_count": 156,
   "metadata": {
    "scrolled": true
   },
   "outputs": [
    {
     "name": "stdout",
     "output_type": "stream",
     "text": [
      "0\n",
      "1\n",
      "2\n",
      "3\n",
      "4\n",
      "5\n",
      "6\n",
      "7\n",
      "8\n",
      "9\n",
      "10\n",
      "11\n",
      "12\n",
      "13\n",
      "14\n",
      "15\n",
      "16\n",
      "17\n",
      "18\n",
      "19\n",
      "20\n",
      "21\n",
      "22\n",
      "23\n",
      "24\n",
      "25\n",
      "26\n",
      "27\n",
      "28\n",
      "29\n",
      "30\n",
      "31\n",
      "32\n",
      "33\n",
      "https://news.tvbs.com.tw/politics/1191254\n",
      "34\n",
      "35\n",
      "36\n",
      "37\n",
      "38\n",
      "39\n",
      "40\n",
      "41\n",
      "42\n",
      "43\n",
      "44\n",
      "45\n",
      "46\n",
      "https://news.tvbs.com.tw/politics/1165023\n",
      "47\n",
      "48\n",
      "49\n",
      "50\n",
      "51\n",
      "52\n",
      "53\n",
      "54\n",
      "55\n",
      "56\n",
      "57\n",
      "58\n",
      "59\n",
      "60\n",
      "61\n",
      "62\n",
      "63\n",
      "https://news.tvbs.com.tw/politics/1254204\n",
      "64\n",
      "65\n",
      "66\n",
      "67\n",
      "https://m.ctee.com.tw/livenews/ch/chinatimes/20190820003560-260405\n",
      "68\n",
      "69\n",
      "https://udn.com/news/story/6812/4126842\n",
      "70\n",
      "https://www.chinatimes.com/newspapers/20190812000285-260206\n"
     ]
    },
    {
     "ename": "KeyboardInterrupt",
     "evalue": "",
     "output_type": "error",
     "traceback": [
      "\u001b[1;31m---------------------------------------------------------------------------\u001b[0m",
      "\u001b[1;31mKeyboardInterrupt\u001b[0m                         Traceback (most recent call last)",
      "\u001b[1;32m<ipython-input-156-401c7e546486>\u001b[0m in \u001b[0;36m<module>\u001b[1;34m\u001b[0m\n\u001b[0;32m     32\u001b[0m \u001b[1;33m\u001b[0m\u001b[0m\n\u001b[0;32m     33\u001b[0m     \u001b[1;32mif\u001b[0m \u001b[0mindex\u001b[0m \u001b[1;33m%\u001b[0m \u001b[1;36m10\u001b[0m \u001b[1;33m==\u001b[0m \u001b[1;36m0\u001b[0m\u001b[1;33m:\u001b[0m\u001b[1;33m\u001b[0m\u001b[1;33m\u001b[0m\u001b[0m\n\u001b[1;32m---> 34\u001b[1;33m         \u001b[0mtime\u001b[0m\u001b[1;33m.\u001b[0m\u001b[0msleep\u001b[0m\u001b[1;33m(\u001b[0m\u001b[0mrandom\u001b[0m\u001b[1;33m.\u001b[0m\u001b[0mrandom\u001b[0m\u001b[1;33m(\u001b[0m\u001b[1;33m)\u001b[0m\u001b[1;33m)\u001b[0m\u001b[1;33m\u001b[0m\u001b[1;33m\u001b[0m\u001b[0m\n\u001b[0m",
      "\u001b[1;31mKeyboardInterrupt\u001b[0m: "
     ]
    }
   ],
   "source": [
    "for index, single_data in data.iterrows():\n",
    "    print(index)\n",
    "    if(('tvbs' not in single_data['hyperlink'])):\n",
    "        try:\n",
    "            \n",
    "            if(('mingpao' in single_data['hyperlink']) | ('coolloud' in single_data['hyperlink'])):\n",
    "                response = requests.get(single_data['hyperlink'], headers=headers)    \n",
    "                response.encoding = 'utf-8'\n",
    "                content = response.text\n",
    "\n",
    "            else:  \n",
    "                response = requests.get(single_data['hyperlink'], headers=headers)\n",
    "                content = response.text\n",
    "\n",
    "            if('mirrormedia' in single_data['hyperlink']):\n",
    "                soup = BeautifulSoup(content.replace('<br>', '/n'), 'html.parser')\n",
    "            else:\n",
    "                soup = BeautifulSoup(content, 'html.parser')\n",
    "            \n",
    "            split_words = single_data['content'].split('###')\n",
    "            firstwords = split_words[0][-6:-1]\n",
    "            endwords = split_words[-1][1:6]\n",
    "            all_content = number_p(soup, firstwords=firstwords, endwords=endwords, link=single_data['hyperlink'])\n",
    "            single_data['content'] = all_content\n",
    "\n",
    "        except:\n",
    "            single_data['content'] = ''\n",
    "            print(single_data['hyperlink'])\n",
    "    else:\n",
    "        single_data['content'] = ''\n",
    "        print(single_data['hyperlink'])\n",
    "\n",
    "    if index % 10 == 0:\n",
    "        time.sleep(random.random())"
   ]
  },
  {
   "cell_type": "code",
   "execution_count": 148,
   "metadata": {
    "scrolled": false
   },
   "outputs": [],
   "source": [
    "data.to_csv(r'C:\\Users\\9Suser\\Desktop\\模型訓練資料\\tbrain_train_final_0603_crawl2.csv')"
   ]
  }
 ],
 "metadata": {
  "kernelspec": {
   "display_name": "pyscraper",
   "language": "python",
   "name": "pyscraper"
  },
  "language_info": {
   "codemirror_mode": {
    "name": "ipython",
    "version": 3
   },
   "file_extension": ".py",
   "mimetype": "text/x-python",
   "name": "python",
   "nbconvert_exporter": "python",
   "pygments_lexer": "ipython3",
   "version": "3.6.10"
  }
 },
 "nbformat": 4,
 "nbformat_minor": 2
}
