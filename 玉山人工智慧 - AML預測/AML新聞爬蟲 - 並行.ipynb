{
 "cells": [
  {
   "cell_type": "code",
   "execution_count": 10,
   "metadata": {},
   "outputs": [],
   "source": [
    "import requests\n",
    "import pandas as pd\n",
    "import numpy as np\n",
    "import time\n",
    "import random\n",
    "from bs4 import BeautifulSoup\n",
    "import multiprocessing as mp\n",
    "from threading import Thread\n",
    "import concurrent"
   ]
  },
  {
   "cell_type": "code",
   "execution_count": 11,
   "metadata": {},
   "outputs": [],
   "source": [
    "data = pd.read_csv(r'C:\\Users\\9Suser\\Desktop\\模型訓練資料\\tbrain_train_final_0603.csv')[['hyperlink', 'content']]"
   ]
  },
  {
   "cell_type": "code",
   "execution_count": 12,
   "metadata": {},
   "outputs": [],
   "source": [
    "data = data[0:5]"
   ]
  },
  {
   "cell_type": "code",
   "execution_count": 13,
   "metadata": {},
   "outputs": [],
   "source": [
    "def number_p(soup, firstwords, endwords, link):    \n",
    "    flag = False\n",
    "    content = []\n",
    "    \n",
    "    if('mops' in link):\n",
    "        tags = soup.find_all('font', class_=None, text=True, attrs={'data-reactid':None})\n",
    "    elif('domestic.judicial' in link):   #司法院公告\n",
    "        tags = soup.find_all('pre', class_=None, text=True, attrs={'data-reactid':None})\n",
    "    else:\n",
    "        tags = soup.find_all('p', class_=None, text=True, attrs={'data-reactid':None})\n",
    "   \n",
    "    \n",
    "    if firstwords not in str(tags):\n",
    "        for tag in tags:\n",
    "            content.append(tag.contents[0])\n",
    "            if endwords in tag.contents[0]:\n",
    "                break\n",
    "        \n",
    "    else:\n",
    "        for tag in tags:\n",
    "\n",
    "            if firstwords in tag.contents[0]:\n",
    "                flag = True\n",
    "\n",
    "            if flag:\n",
    "                content.append(tag.contents[0])\n",
    "                if endwords in tag.contents[0]:\n",
    "                    break\n",
    "\n",
    "    return content"
   ]
  },
  {
   "cell_type": "code",
   "execution_count": 14,
   "metadata": {
    "scrolled": false
   },
   "outputs": [],
   "source": [
    "headers = {'User-Agent': 'Mozilla/5.0 (Windows NT 10.0; Win64; x64; rv:54.0) Gecko/20100101 Firefox/54.0'}"
   ]
  },
  {
   "cell_type": "code",
   "execution_count": 15,
   "metadata": {
    "scrolled": true
   },
   "outputs": [],
   "source": [
    "def crawl(data):\n",
    "    for index, single_data in data.iterrows():\n",
    "        print(index)\n",
    "        if(('tvbs' not in single_data['hyperlink'])):\n",
    "            try:\n",
    "\n",
    "                if(('mingpao' in single_data['hyperlink']) | ('coolloud' in single_data['hyperlink'])):\n",
    "                    response = requests.get(single_data['hyperlink'], headers=headers)    \n",
    "                    response.encoding = 'utf-8'\n",
    "                    content = response.text\n",
    "\n",
    "                else:  \n",
    "                    response = requests.get(single_data['hyperlink'], headers=headers)\n",
    "                    content = response.text\n",
    "\n",
    "                if('mirrormedia' in single_data['hyperlink']):\n",
    "                    soup = BeautifulSoup(content.replace('<br>', '/n'), 'html.parser')\n",
    "                else:\n",
    "                    soup = BeautifulSoup(content, 'html.parser')\n",
    "\n",
    "                split_words = single_data['content'].split('###')\n",
    "                firstwords = split_words[0][-6:-1]\n",
    "                endwords = split_words[-1][1:6]\n",
    "                all_content = number_p(soup, firstwords=firstwords, endwords=endwords, link=single_data['hyperlink'])\n",
    "                single_data['content'] = all_content\n",
    "\n",
    "            except:\n",
    "                single_data['content'] = ''\n",
    "                print(single_data['hyperlink'])\n",
    "        else:\n",
    "            single_data['content'] = ''\n",
    "            print(single_data['hyperlink'])\n",
    "\n",
    "        if index % 10 == 0:\n",
    "            time.sleep(random.random())\n",
    "        time.sleep(0.1)"
   ]
  },
  {
   "cell_type": "code",
   "execution_count": 17,
   "metadata": {},
   "outputs": [
    {
     "data": {
      "text/plain": [
       "<module 'pymp' from 'C:\\\\Users\\\\9Suser\\\\Anaconda3\\\\envs\\\\pyscraper\\\\lib\\\\site-packages\\\\pymp\\\\__init__.py'>"
      ]
     },
     "execution_count": 17,
     "metadata": {},
     "output_type": "execute_result"
    }
   ],
   "source": []
  },
  {
   "cell_type": "code",
   "execution_count": 16,
   "metadata": {},
   "outputs": [
    {
     "ename": "AttributeError",
     "evalue": "module 'pymp' has no attribute 'Parallel'",
     "output_type": "error",
     "traceback": [
      "\u001b[1;31m---------------------------------------------------------------------------\u001b[0m",
      "\u001b[1;31mAttributeError\u001b[0m                            Traceback (most recent call last)",
      "\u001b[1;32m<ipython-input-16-2889f6516ea0>\u001b[0m in \u001b[0;36m<module>\u001b[1;34m\u001b[0m\n\u001b[0;32m      1\u001b[0m \u001b[1;32mimport\u001b[0m \u001b[0mpymp\u001b[0m\u001b[1;33m\u001b[0m\u001b[1;33m\u001b[0m\u001b[0m\n\u001b[0;32m      2\u001b[0m \u001b[1;31m#ex_array = pymp.shared.array((100,), dtype='uint8')\u001b[0m\u001b[1;33m\u001b[0m\u001b[1;33m\u001b[0m\u001b[1;33m\u001b[0m\u001b[0m\n\u001b[1;32m----> 3\u001b[1;33m \u001b[1;32mwith\u001b[0m \u001b[0mpymp\u001b[0m\u001b[1;33m.\u001b[0m\u001b[0mParallel\u001b[0m\u001b[1;33m(\u001b[0m\u001b[1;36m3\u001b[0m\u001b[1;33m)\u001b[0m \u001b[1;32mas\u001b[0m \u001b[0mp\u001b[0m\u001b[1;33m:\u001b[0m\u001b[1;33m\u001b[0m\u001b[1;33m\u001b[0m\u001b[0m\n\u001b[0m\u001b[0;32m      4\u001b[0m     \u001b[0mcrawl\u001b[0m\u001b[1;33m(\u001b[0m\u001b[0mdata\u001b[0m\u001b[1;33m)\u001b[0m\u001b[1;33m\u001b[0m\u001b[1;33m\u001b[0m\u001b[0m\n\u001b[0;32m      5\u001b[0m \u001b[1;33m\u001b[0m\u001b[0m\n",
      "\u001b[1;31mAttributeError\u001b[0m: module 'pymp' has no attribute 'Parallel'"
     ]
    }
   ],
   "source": [
    "import pymp\n",
    "#ex_array = pymp.shared.array((100,), dtype='uint8')\n",
    "with pymp.Parallel(3) as p:\n",
    "    crawl(data)\n",
    "        "
   ]
  },
  {
   "cell_type": "code",
   "execution_count": 8,
   "metadata": {
    "scrolled": true
   },
   "outputs": [
    {
     "name": "stdout",
     "output_type": "stream",
     "text": [
      "0\n",
      "1\n",
      "2\n",
      "3\n",
      "4\n"
     ]
    },
    {
     "name": "stderr",
     "output_type": "stream",
     "text": [
      "Exception in thread Thread-9:\n",
      "Traceback (most recent call last):\n",
      "  File \"C:\\Users\\9Suser\\Anaconda3\\envs\\pyscraper\\lib\\threading.py\", line 916, in _bootstrap_inner\n",
      "    self.run()\n",
      "  File \"C:\\Users\\9Suser\\Anaconda3\\envs\\pyscraper\\lib\\threading.py\", line 864, in run\n",
      "    self._target(*self._args, **self._kwargs)\n",
      "TypeError: 'list' object is not callable\n",
      "\n",
      "Exception in thread Thread-10:\n",
      "Traceback (most recent call last):\n",
      "  File \"C:\\Users\\9Suser\\Anaconda3\\envs\\pyscraper\\lib\\threading.py\", line 916, in _bootstrap_inner\n",
      "    self.run()\n",
      "  File \"C:\\Users\\9Suser\\Anaconda3\\envs\\pyscraper\\lib\\threading.py\", line 864, in run\n",
      "    self._target(*self._args, **self._kwargs)\n",
      "TypeError: 'list' object is not callable\n",
      "Exception in thread Thread-11:\n",
      "Traceback (most recent call last):\n",
      "  File \"C:\\Users\\9Suser\\Anaconda3\\envs\\pyscraper\\lib\\threading.py\", line 916, in _bootstrap_inner\n",
      "    self.run()\n",
      "  File \"C:\\Users\\9Suser\\Anaconda3\\envs\\pyscraper\\lib\\threading.py\", line 864, in run\n",
      "    self._target(*self._args, **self._kwargs)\n",
      "TypeError: 'list' object is not callable\n",
      "\n",
      "\n"
     ]
    }
   ],
   "source": [
    "a = [crawl(index, single_data) for index, single_data in data.iterrows()]\n",
    "workers = []\n",
    "for i in range(3):\n",
    "    worker = Thread(target=a)\n",
    "    worker.start()\n",
    "    #workers.append(worker)\n",
    "for worker in workers:\n",
    "    worker.join()"
   ]
  },
  {
   "cell_type": "code",
   "execution_count": null,
   "metadata": {},
   "outputs": [],
   "source": [
    "data"
   ]
  },
  {
   "cell_type": "code",
   "execution_count": null,
   "metadata": {
    "scrolled": false
   },
   "outputs": [],
   "source": [
    "data.to_csv(r'C:\\Users\\9Suser\\Desktop\\模型訓練資料\\tbrain_train_final_0603_crawl2.csv')"
   ]
  },
  {
   "cell_type": "code",
   "execution_count": null,
   "metadata": {},
   "outputs": [],
   "source": []
  }
 ],
 "metadata": {
  "kernelspec": {
   "display_name": "pyscraper",
   "language": "python",
   "name": "pyscraper"
  },
  "language_info": {
   "codemirror_mode": {
    "name": "ipython",
    "version": 3
   },
   "file_extension": ".py",
   "mimetype": "text/x-python",
   "name": "python",
   "nbconvert_exporter": "python",
   "pygments_lexer": "ipython3",
   "version": "3.6.10"
  }
 },
 "nbformat": 4,
 "nbformat_minor": 2
}
